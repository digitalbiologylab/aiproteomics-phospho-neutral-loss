{
 "cells": [
  {
   "cell_type": "markdown",
   "id": "d87e7fb3",
   "metadata": {},
   "source": [
    "# 📜 Generate In Silico Spectral Library Guideline\n",
    "\n",
    "This notebook demonstrates how to generate in silico spectral library\n",
    "\n",
    "All thing needed:\n",
    "- peptide infomation\n",
    "- DL Model to predict mass spectra of peptide"
   ]
  },
  {
   "cell_type": "code",
   "execution_count": 1,
   "id": "f3f13383",
   "metadata": {},
   "outputs": [],
   "source": [
    "import warnings\n",
    "\n",
    "warnings.filterwarnings('ignore')"
   ]
  },
  {
   "cell_type": "code",
   "execution_count": null,
   "id": "6be16551",
   "metadata": {},
   "outputs": [],
   "source": [
    "import os\n",
    "import sys\n",
    "\n",
    "sys.path.append(os.path.abspath(os.path.join(os.path.dirname(\"../\"), \"\")))"
   ]
  },
  {
   "cell_type": "code",
   "execution_count": null,
   "id": "9dba7f40",
   "metadata": {},
   "outputs": [],
   "source": [
    "from src.generate_spectral_lib import generate_spectral_lib\n",
    "import pandas as pd"
   ]
  },
  {
   "cell_type": "markdown",
   "id": "f9c9625c",
   "metadata": {},
   "source": [
    "### 🤖 | Import model"
   ]
  },
  {
   "cell_type": "code",
   "execution_count": null,
   "id": "8649044e",
   "metadata": {},
   "outputs": [],
   "source": [
    "frag_types = ['b_z1', 'b_z2', 'y_z1', 'y_z2', 'b_modloss_z1', 'b_modloss_z2', 'y_modloss_z1', 'y_modloss_z2']"
   ]
  },
  {
   "cell_type": "code",
   "execution_count": null,
   "id": "ed8115e3",
   "metadata": {},
   "outputs": [],
   "source": [
    "from peptdeep.model.ms2 import ModelMS2Bert\n",
    "from src.custom_model import CustomModelManager, CustompDeepModel\n",
    "\n",
    "ms2_model = CustompDeepModel(charged_frag_types=frag_types, mask_modloss=False,model_class=ModelMS2Bert, modloss_type=[\"modloss\", 'NH3', 'H2O'])\n",
    "modelMans = CustomModelManager(mask_modloss=False, ms2_model=ms2_model)\n",
    "\n",
    "'''\n",
    "    You can load your own model here:\n",
    "    modelMans.rt_model.load('YOUR_PRETRAINED_MODEL_PATH/rt.pth')\n",
    "    modelMans.ccs_model.load('YOUR_PRETRAINED_MODEL_PATH/ccs.pth')\n",
    "    modelMans.ms2_model.load('YOUR_PRETRAINED_MODEL_PATH/ms2.pth')\n",
    "'''"
   ]
  },
  {
   "cell_type": "markdown",
   "id": "ed464898",
   "metadata": {},
   "source": [
    "### 🗂️ | Load data"
   ]
  },
  {
   "cell_type": "code",
   "execution_count": null,
   "id": "92aaf849",
   "metadata": {},
   "outputs": [],
   "source": [
    "psm_df = pd.read_csv('YOUR_DATASET_PATH/psm_df.csv')\n",
    "psm_df['mod_sites'] = psm_df['mod_sites'].astype(str)\n",
    "psm_df['mod_sites'].fillna('', inplace=True)\n",
    "psm_df['mods'] = psm_df['mods'].astype(str)\n",
    "psm_df['mods'].fillna('', inplace=True)\n",
    "psm_df['mods'] = psm_df['mods'].apply(lambda x: x.replace('Acetyl@Protein N-term', 'Acetyl@Protein_N-term'))\n",
    "\n",
    "mz_df = pd.read_csv('YOUR_DATASET_PATH/fragment_mz_df.csv')\n",
    "intensity_df = pd.read_csv('YOUR_DATASET_PATH/fragment_intensity_df.csv')"
   ]
  },
  {
   "cell_type": "markdown",
   "id": "888e06fa",
   "metadata": {},
   "source": [
    "### ✏️ | Generate in silico spectral library"
   ]
  },
  {
   "cell_type": "markdown",
   "id": "9de41114",
   "metadata": {},
   "source": [
    "##### 🛠️ Function: `generate_spectral_lib(...)`\n",
    "\n",
    "```python\n",
    "generate_spectral_lib(\n",
    "    output_file: str,\n",
    "    model_mgr: ModelManager,\n",
    "    psm_df: pd.DataFrame,\n",
    "    predict_items: List[str],\n",
    "    frag_types: List[str],\n",
    "    multiprocessing: bool = False\n",
    ")\n",
    "```\n",
    "\n",
    "**Parameters**:\n",
    "- `output_file`: Path to save the output spectral library in .tsv format.\n",
    "- `model_mgr`: Model Manager to predict RT, CSS, MS2\n",
    "- `psm_df`: Peptide-Spectrum Match dataframe containing the input peptide information.\n",
    "- `predict_items`: Items to predict (['rt', 'ccs', 'ms2'])\n",
    "- `frag_types`: List type of ms2 fragment\n",
    "- `multiprocessing`: Is predicted with multiprocessing "
   ]
  },
  {
   "cell_type": "code",
   "execution_count": null,
   "id": "0878c4ab",
   "metadata": {},
   "outputs": [],
   "source": [
    "generate_spectral_lib(\n",
    "        output_file=f'YOUR_SPEC_LIB_PATH/SPECTRAL_LIBRARY_NAME.tsv',\n",
    "        model_mgr=modelMans,\n",
    "        psm_df=psm_df,\n",
    "        predict_items=['mobility', 'ms2'],\n",
    "        frag_types=frag_types,\n",
    "        multiprocessing=False\n",
    ")"
   ]
  },
  {
   "cell_type": "markdown",
   "id": "895aefee",
   "metadata": {},
   "source": [
    "#### 💾 Output:\n",
    "\n",
    "This function will create spectral library and store results as: `YOUR_SPEC_LIB_PATH/SPECTRAL_LIBRARY_NAME.tsv`\n",
    "\n",
    "This file contains these informations:\n",
    "- `ModifiedPeptide`: Peptide sequence contains post-translational modification information (these mods is expressed by UniMod id)\n",
    "- `PeptideSequence`: Peptide sequence don't contains post-translational modification information\n",
    "- `Run`: Name of experiment\n",
    "- `PrecursorCharge`: Charge of precursor\n",
    "- `PrecursorMz`: Mass-to-charge ratio of precursor\n",
    "- `Tr_recalibrated`: Retention time of peptide\n",
    "- `ProteinName`: Protein name\n",
    "- `FragmentCharge`: Charge of fragment\n",
    "- `FragmenType`: Type of fragment\n",
    "- etc. (please read file README.md for more information)\n"
   ]
  }
 ],
 "metadata": {
  "kernelspec": {
   "display_name": "datn",
   "language": "python",
   "name": "python3"
  },
  "language_info": {
   "codemirror_mode": {
    "name": "ipython",
    "version": 3
   },
   "file_extension": ".py",
   "mimetype": "text/x-python",
   "name": "python",
   "nbconvert_exporter": "python",
   "pygments_lexer": "ipython3",
   "version": "3.12.9"
  }
 },
 "nbformat": 4,
 "nbformat_minor": 5
}
