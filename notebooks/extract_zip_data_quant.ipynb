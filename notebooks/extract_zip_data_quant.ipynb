{
 "cells": [
  {
   "cell_type": "markdown",
   "id": "eadbefc2",
   "metadata": {},
   "source": [
    "# 📜 Extract Quant Data Guide\n",
    "\n",
    "This notebook demonstrates how to use the `extract_peptide_info()`, `extract_peptide_info_to_separated_raw_file` function from the `extract_zip_data_quant.py` module."
   ]
  },
  {
   "cell_type": "code",
   "execution_count": 1,
   "id": "81272f57",
   "metadata": {},
   "outputs": [],
   "source": [
    "import warnings\n",
    "\n",
    "warnings.filterwarnings('ignore')"
   ]
  },
  {
   "cell_type": "code",
   "execution_count": 4,
   "id": "fcc97d7b",
   "metadata": {},
   "outputs": [],
   "source": [
    "import os\n",
    "import sys\n",
    "\n",
    "sys.path.append(os.path.abspath(os.path.join(os.path.dirname(\"../\"), \"\")))"
   ]
  },
  {
   "cell_type": "code",
   "execution_count": 7,
   "id": "9d9cdfb9",
   "metadata": {},
   "outputs": [],
   "source": [
    "from src.extract_zip_data_quant import extract_peptide_info, extract_peptide_info_to_separated_raw_file"
   ]
  },
  {
   "cell_type": "markdown",
   "id": "b6a23395",
   "metadata": {},
   "source": [
    "## 🛠️ Function: `extract_peptide_info(...)`\n",
    "\n",
    "```python\n",
    "extract_peptide_info(\n",
    "    path: str,\n",
    "    out_dir: str,\n",
    "    frag_types: List[str],\n",
    "    is_included_other_mods: bool = False\n",
    ")\n",
    "```\n",
    "\n",
    "**Parameters**:\n",
    "- `path`: Path to the directory containing quantification data files such as\n",
    "evidence.txt, msms.txt, peptides.txt, proteinGroups.txt, msmsScans.txt, etc.\n",
    "- `out_dir`: Path to the output directory where the processed files will be saved\n",
    "- `frag_types`: List of fragment types to extract (e.g., b_z1, y_modloss_z2, etc.)\n",
    "- `is_included_other_mods`: Set to True to include modifications other than Phospho;\n",
    "set to False to extract only Phospho-related data"
   ]
  },
  {
   "cell_type": "code",
   "execution_count": null,
   "id": "4d30345b",
   "metadata": {},
   "outputs": [],
   "source": [
    "# Set fragment types\n",
    "frag_types = frag_types = ['b_z1', 'b_z2', 'y_z1', 'y_z2', 'b_modloss_z1', 'b_modloss_z2', 'y_modloss_z1', 'y_modloss_z2']\n",
    "\n",
    "extract_peptide_info(path=r'C:\\Users\\khang\\Documents\\txt-DDA-analyses',\n",
    "    out_dir=r'psm_data/PXD014525', frag_types=frag_types, is_included_other_mods=False,\n",
    ")"
   ]
  },
  {
   "cell_type": "markdown",
   "id": "a02045a5",
   "metadata": {},
   "source": [
    "#### 💾 Output:\n",
    "\n",
    "The function will extract PSM data and store results in the directory: `psm_data/PXD014525`\n",
    "\n",
    "- `psm_df.csv`: Contains peptide-spectrum match information  \n",
    "- `fragment_mz_df.csv`: Stores fragment m/z values  \n",
    "- `fragment_intensity.csv`: Stores fragment intensity values  "
   ]
  },
  {
   "cell_type": "markdown",
   "id": "15ca6a1b",
   "metadata": {},
   "source": [
    "## 🛠️ Function: `extract_peptide_info_to_separated_raw_file(...)`\n",
    "\n",
    "```python\n",
    "extract_peptide_info_to_separated_raw_file(\n",
    "    path: str,\n",
    "    out_dir: str,\n",
    "    frag_types: List[str],\n",
    "    is_included_other_mods: bool = False,\n",
    "    raw_names: List[str] = None\n",
    ")\n",
    "```\n",
    "\n",
    "**Parameters**:\n",
    "- *path*: Path to the directory containing quantification data files such as\n",
    "evidence.txt, msms.txt, peptides.txt, proteinGroups.txt, msmsScans.txt, etc.\n",
    "- *out_dir*: Path to the output directory where the processed files will be saved\n",
    "- *frag_types*: List of fragment types to extract (e.g., b_z1, y_modloss_z2, etc.)\n",
    "- *is_included_other_mods*: Set to True to include modifications other than Phospho;\n",
    "set to False to extract only Phospho-related data\n",
    "- *raw_names*: List of RAW file names to filter and extract separately (List Raw name in evidence.txt file). If [], all Raw name will be processed"
   ]
  },
  {
   "cell_type": "code",
   "execution_count": null,
   "id": "85621ce3",
   "metadata": {},
   "outputs": [
    {
     "name": "stdout",
     "output_type": "stream",
     "text": [
      "Start: ...\n",
      "Evidence reading: Done\n",
      "Extract raw name: 20171024_QE5_nLC3_DBJ_SA_LFQphos_RPE1_Pilot2_PD0325901_0-5uM_03\n"
     ]
    },
    {
     "name": "stderr",
     "output_type": "stream",
     "text": [
      "Processing peptides: 100%|██████████| 9878/9878 [00:37<00:00, 261.09it/s]\n",
      "100%|██████████| 9878/9878 [00:08<00:00, 1141.12it/s]\n"
     ]
    },
    {
     "name": "stdout",
     "output_type": "stream",
     "text": [
      "Extract raw name: 20171024_QE5_nLC3_DBJ_SA_LFQphos_RPE1_Pilot2_Cobimetinib_0-5uM_03\n"
     ]
    },
    {
     "name": "stderr",
     "output_type": "stream",
     "text": [
      "Processing peptides: 100%|██████████| 8897/8897 [00:33<00:00, 268.84it/s]\n",
      "100%|██████████| 8897/8897 [00:06<00:00, 1306.56it/s]\n"
     ]
    },
    {
     "name": "stdout",
     "output_type": "stream",
     "text": [
      "Extract raw name: 20171024_QE5_nLC3_DBJ_SA_LFQphos_RPE1_Pilot2_NoSerum_02\n"
     ]
    },
    {
     "name": "stderr",
     "output_type": "stream",
     "text": [
      "Processing peptides: 100%|██████████| 8728/8728 [00:35<00:00, 247.89it/s]\n",
      "100%|██████████| 8728/8728 [00:06<00:00, 1326.74it/s]\n"
     ]
    },
    {
     "name": "stdout",
     "output_type": "stream",
     "text": [
      "Extract raw name: 20171024_QE5_nLC3_DBJ_SA_LFQphos_RPE1_Pilot2_NoSerum_03\n"
     ]
    },
    {
     "name": "stderr",
     "output_type": "stream",
     "text": [
      "Processing peptides: 100%|██████████| 9573/9573 [00:37<00:00, 254.35it/s]\n",
      "100%|██████████| 9573/9573 [00:07<00:00, 1360.37it/s]\n"
     ]
    },
    {
     "name": "stdout",
     "output_type": "stream",
     "text": [
      "Extract raw name: 20171024_QE5_nLC3_DBJ_SA_LFQphos_RPE1_Pilot2_PD0325901_0-5uM_02\n"
     ]
    },
    {
     "name": "stderr",
     "output_type": "stream",
     "text": [
      "Processing peptides: 100%|██████████| 8566/8566 [00:30<00:00, 276.90it/s]\n",
      "100%|██████████| 8566/8566 [00:06<00:00, 1426.45it/s]\n"
     ]
    },
    {
     "name": "stdout",
     "output_type": "stream",
     "text": [
      "Extract raw name: 20171024_QE5_nLC3_DBJ_SA_LFQphos_RPE1_Pilot2_Cobimetinib_5uM_02\n"
     ]
    },
    {
     "name": "stderr",
     "output_type": "stream",
     "text": [
      "Processing peptides: 100%|██████████| 7924/7924 [00:27<00:00, 285.21it/s]\n",
      "100%|██████████| 7924/7924 [00:05<00:00, 1423.41it/s]\n"
     ]
    },
    {
     "name": "stdout",
     "output_type": "stream",
     "text": [
      "Extract raw name: 20171024_QE5_nLC3_DBJ_SA_LFQphos_RPE1_Pilot2_Cobimetinib_5uM_03\n"
     ]
    },
    {
     "name": "stderr",
     "output_type": "stream",
     "text": [
      "Processing peptides: 100%|██████████| 8301/8301 [00:29<00:00, 282.65it/s]\n",
      "100%|██████████| 8301/8301 [00:05<00:00, 1423.21it/s]\n"
     ]
    },
    {
     "name": "stdout",
     "output_type": "stream",
     "text": [
      "Extract raw name: 20171024_QE5_nLC3_DBJ_SA_LFQphos_RPE1_Pilot2_EGF_01\n"
     ]
    },
    {
     "name": "stderr",
     "output_type": "stream",
     "text": [
      "Processing peptides: 100%|██████████| 7834/7834 [00:27<00:00, 286.46it/s]\n",
      "100%|██████████| 7834/7834 [00:05<00:00, 1339.07it/s]\n"
     ]
    },
    {
     "name": "stdout",
     "output_type": "stream",
     "text": [
      "Extract raw name: 20171024_QE5_nLC3_DBJ_SA_LFQphos_RPE1_Pilot2_EGF_03\n"
     ]
    },
    {
     "name": "stderr",
     "output_type": "stream",
     "text": [
      "Processing peptides: 100%|██████████| 8199/8199 [00:28<00:00, 282.79it/s]\n",
      "100%|██████████| 8199/8199 [00:05<00:00, 1411.65it/s]\n"
     ]
    },
    {
     "name": "stdout",
     "output_type": "stream",
     "text": [
      "Extract raw name: 20171024_QE5_nLC3_DBJ_SA_LFQphos_RPE1_Pilot2_NoSerum_01\n"
     ]
    },
    {
     "name": "stderr",
     "output_type": "stream",
     "text": [
      "Processing peptides: 100%|██████████| 7746/7746 [00:27<00:00, 285.11it/s]\n",
      "100%|██████████| 7746/7746 [00:05<00:00, 1412.58it/s]\n"
     ]
    },
    {
     "name": "stdout",
     "output_type": "stream",
     "text": [
      "Extract raw name: 20171024_QE5_nLC3_DBJ_SA_LFQphos_RPE1_Pilot2_Cobimetinib_5uM_01\n"
     ]
    },
    {
     "name": "stderr",
     "output_type": "stream",
     "text": [
      "Processing peptides: 100%|██████████| 7150/7150 [00:24<00:00, 287.97it/s]\n",
      "100%|██████████| 7150/7150 [00:05<00:00, 1424.00it/s]\n"
     ]
    },
    {
     "name": "stdout",
     "output_type": "stream",
     "text": [
      "Extract raw name: 20171024_QE5_nLC3_DBJ_SA_LFQphos_RPE1_Pilot2_PD0325901_5uM_02\n"
     ]
    },
    {
     "name": "stderr",
     "output_type": "stream",
     "text": [
      "Processing peptides: 100%|██████████| 7878/7878 [00:27<00:00, 282.33it/s]\n",
      "100%|██████████| 7878/7878 [00:05<00:00, 1420.15it/s]\n"
     ]
    },
    {
     "name": "stdout",
     "output_type": "stream",
     "text": [
      "Extract raw name: 20171024_QE5_nLC3_DBJ_SA_LFQphos_RPE1_Pilot2_PD0325901_5uM_03\n"
     ]
    },
    {
     "name": "stderr",
     "output_type": "stream",
     "text": [
      "Processing peptides: 100%|██████████| 7906/7906 [00:27<00:00, 286.88it/s]\n",
      "100%|██████████| 7906/7906 [00:05<00:00, 1399.88it/s]\n"
     ]
    },
    {
     "name": "stdout",
     "output_type": "stream",
     "text": [
      "Extract raw name: 20180123_QE5_nLC3_DBJ_SA_LFQphos_Jurkat_200ug_15min_03\n"
     ]
    },
    {
     "name": "stderr",
     "output_type": "stream",
     "text": [
      "Processing peptides: 100%|██████████| 6453/6453 [00:22<00:00, 287.35it/s]\n",
      "100%|██████████| 6453/6453 [00:04<00:00, 1384.04it/s]\n"
     ]
    },
    {
     "name": "stdout",
     "output_type": "stream",
     "text": [
      "Extract raw name: 20180123_QE5_nLC3_DBJ_SA_LFQphos_RPE1_200ug_15min_02\n"
     ]
    },
    {
     "name": "stderr",
     "output_type": "stream",
     "text": [
      "Processing peptides: 100%|██████████| 6250/6250 [00:21<00:00, 289.66it/s]\n",
      "100%|██████████| 6250/6250 [00:04<00:00, 1376.62it/s]\n"
     ]
    },
    {
     "name": "stdout",
     "output_type": "stream",
     "text": [
      "Extract raw name: 20180123_QE5_nLC3_DBJ_SA_LFQphos_RPE1_200ug_15min_03\n"
     ]
    },
    {
     "name": "stderr",
     "output_type": "stream",
     "text": [
      "Processing peptides: 100%|██████████| 5934/5934 [00:20<00:00, 292.10it/s]\n",
      "100%|██████████| 5934/5934 [00:04<00:00, 1397.79it/s]\n"
     ]
    },
    {
     "name": "stdout",
     "output_type": "stream",
     "text": [
      "Extract raw name: 20170517_QE5_nLC7_DBJ_SA_LFQphos_Hela_TiO2_15min_15000_02\n"
     ]
    },
    {
     "name": "stderr",
     "output_type": "stream",
     "text": [
      "Processing peptides: 100%|██████████| 6201/6201 [00:20<00:00, 297.07it/s]\n",
      "100%|██████████| 6201/6201 [00:04<00:00, 1406.76it/s]\n"
     ]
    },
    {
     "name": "stdout",
     "output_type": "stream",
     "text": [
      "Extract raw name: 20171024_QE5_nLC3_DBJ_SA_LFQphos_RPE1_Pilot2_Cobimetinib_0-5uM_01\n"
     ]
    },
    {
     "name": "stderr",
     "output_type": "stream",
     "text": [
      "Processing peptides: 100%|██████████| 7030/7030 [00:24<00:00, 291.43it/s]\n",
      "100%|██████████| 7030/7030 [00:04<00:00, 1408.77it/s]\n"
     ]
    },
    {
     "name": "stdout",
     "output_type": "stream",
     "text": [
      "Extract raw name: 20171024_QE5_nLC3_DBJ_SA_LFQphos_RPE1_Pilot2_Cobimetinib_0-5uM_02\n"
     ]
    },
    {
     "name": "stderr",
     "output_type": "stream",
     "text": [
      "Processing peptides: 100%|██████████| 7952/7952 [00:27<00:00, 284.24it/s]\n",
      "100%|██████████| 7952/7952 [00:05<00:00, 1417.45it/s]\n"
     ]
    },
    {
     "name": "stdout",
     "output_type": "stream",
     "text": [
      "Extract raw name: 20170517_QE5_nLC7_DBJ_SA_LFQphos_Hela_TiO2_15min_15000_01\n"
     ]
    },
    {
     "name": "stderr",
     "output_type": "stream",
     "text": [
      "Processing peptides: 100%|██████████| 6844/6844 [00:23<00:00, 293.29it/s]\n",
      "100%|██████████| 6844/6844 [00:04<00:00, 1404.14it/s]\n"
     ]
    },
    {
     "name": "stdout",
     "output_type": "stream",
     "text": [
      "Extract raw name: 20171001_QE3_nLC7_DBJ_SA_LFQphos_LCMS_Rep_01\n"
     ]
    },
    {
     "name": "stderr",
     "output_type": "stream",
     "text": [
      "Processing peptides: 100%|██████████| 5672/5672 [00:19<00:00, 288.64it/s]\n",
      "100%|██████████| 5672/5672 [00:03<00:00, 1431.00it/s]\n"
     ]
    },
    {
     "name": "stdout",
     "output_type": "stream",
     "text": [
      "Extract raw name: 20171001_QE3_nLC7_DBJ_SA_LFQphos_LCMS_Rep_02\n"
     ]
    },
    {
     "name": "stderr",
     "output_type": "stream",
     "text": [
      "Processing peptides: 100%|██████████| 5678/5678 [00:19<00:00, 290.68it/s]\n",
      "100%|██████████| 5678/5678 [00:04<00:00, 1399.91it/s]\n"
     ]
    },
    {
     "name": "stdout",
     "output_type": "stream",
     "text": [
      "Extract raw name: 20171001_QE3_nLC7_DBJ_SA_LFQphos_LCMS_Rep_03\n"
     ]
    },
    {
     "name": "stderr",
     "output_type": "stream",
     "text": [
      "Processing peptides: 100%|██████████| 5709/5709 [00:19<00:00, 288.97it/s]\n",
      "100%|██████████| 5709/5709 [00:04<00:00, 1404.37it/s]\n"
     ]
    },
    {
     "name": "stdout",
     "output_type": "stream",
     "text": [
      "Extract raw name: 20171001_QE3_nLC7_DBJ_SA_LFQphos_LCMS_Rep_04\n"
     ]
    },
    {
     "name": "stderr",
     "output_type": "stream",
     "text": [
      "Processing peptides: 100%|██████████| 5559/5559 [00:19<00:00, 291.18it/s]\n",
      "100%|██████████| 5559/5559 [00:03<00:00, 1429.68it/s]\n"
     ]
    },
    {
     "name": "stdout",
     "output_type": "stream",
     "text": [
      "Extract raw name: 20171001_QE3_nLC7_DBJ_SA_LFQphos_LCMS_Rep_06\n"
     ]
    },
    {
     "name": "stderr",
     "output_type": "stream",
     "text": [
      "Processing peptides: 100%|██████████| 5517/5517 [00:18<00:00, 293.93it/s]\n",
      "100%|██████████| 5517/5517 [00:03<00:00, 1421.99it/s]\n"
     ]
    },
    {
     "name": "stdout",
     "output_type": "stream",
     "text": [
      "Extract raw name: 20171001_QE3_nLC7_DBJ_SA_LFQphos_Tech_Rep_05\n"
     ]
    },
    {
     "name": "stderr",
     "output_type": "stream",
     "text": [
      "Processing peptides: 100%|██████████| 5871/5871 [00:20<00:00, 291.37it/s]\n",
      "100%|██████████| 5871/5871 [00:04<00:00, 1421.28it/s]\n"
     ]
    },
    {
     "name": "stdout",
     "output_type": "stream",
     "text": [
      "Extract raw name: 20171001_QE3_nLC7_DBJ_SA_LFQphos_Tech_Rep_06\n"
     ]
    },
    {
     "name": "stderr",
     "output_type": "stream",
     "text": [
      "Processing peptides: 100%|██████████| 5752/5752 [00:19<00:00, 290.28it/s]\n",
      "100%|██████████| 5752/5752 [00:04<00:00, 1420.69it/s]\n"
     ]
    },
    {
     "name": "stdout",
     "output_type": "stream",
     "text": [
      "Extract raw name: 20180123_QE5_nLC3_DBJ_SA_LFQphos_SY5Y_200ug_15min_03\n"
     ]
    },
    {
     "name": "stderr",
     "output_type": "stream",
     "text": [
      "Processing peptides: 100%|██████████| 5929/5929 [00:20<00:00, 295.03it/s]\n",
      "100%|██████████| 5929/5929 [00:04<00:00, 1435.06it/s]\n"
     ]
    },
    {
     "name": "stdout",
     "output_type": "stream",
     "text": [
      "Extract raw name: 20180123_QE5_nLC3_DBJ_SA_LFQphos_SY5Y_200ug_15min_02\n"
     ]
    },
    {
     "name": "stderr",
     "output_type": "stream",
     "text": [
      "Processing peptides: 100%|██████████| 5674/5674 [00:19<00:00, 294.88it/s]\n",
      "100%|██████████| 5674/5674 [00:03<00:00, 1428.70it/s]\n"
     ]
    },
    {
     "name": "stdout",
     "output_type": "stream",
     "text": [
      "Extract raw name: 20171024_QE5_nLC3_DBJ_SA_LFQphos_RPE1_Pilot2_PD0325901_0-5uM_01\n"
     ]
    },
    {
     "name": "stderr",
     "output_type": "stream",
     "text": [
      "Processing peptides: 100%|██████████| 9700/9700 [00:35<00:00, 269.63it/s]\n",
      "100%|██████████| 9700/9700 [00:06<00:00, 1435.05it/s]\n"
     ]
    },
    {
     "name": "stdout",
     "output_type": "stream",
     "text": [
      "Extract raw name: 20171024_QE5_nLC3_DBJ_SA_LFQphos_RPE1_Pilot2_EGF_02\n"
     ]
    },
    {
     "name": "stderr",
     "output_type": "stream",
     "text": [
      "Processing peptides: 100%|██████████| 9645/9645 [00:35<00:00, 271.24it/s]\n",
      "100%|██████████| 9645/9645 [00:06<00:00, 1416.78it/s]\n"
     ]
    },
    {
     "name": "stdout",
     "output_type": "stream",
     "text": [
      "Extract raw name: 20180123_QE5_nLC3_DBJ_SA_LFQphos_Jurkat_200ug_15min_01\n"
     ]
    },
    {
     "name": "stderr",
     "output_type": "stream",
     "text": [
      "Processing peptides: 100%|██████████| 5481/5481 [00:18<00:00, 298.31it/s]\n",
      "100%|██████████| 5481/5481 [00:03<00:00, 1404.97it/s]\n"
     ]
    },
    {
     "name": "stdout",
     "output_type": "stream",
     "text": [
      "Extract raw name: 20180123_QE5_nLC3_DBJ_SA_LFQphos_Jurkat_200ug_15min_02\n"
     ]
    },
    {
     "name": "stderr",
     "output_type": "stream",
     "text": [
      "Processing peptides: 100%|██████████| 6449/6449 [00:22<00:00, 289.43it/s]\n",
      "100%|██████████| 6449/6449 [00:04<00:00, 1442.70it/s]\n"
     ]
    },
    {
     "name": "stdout",
     "output_type": "stream",
     "text": [
      "Extract raw name: 20180123_QE5_nLC3_DBJ_SA_LFQphos_RPE1_200ug_15min_01\n"
     ]
    },
    {
     "name": "stderr",
     "output_type": "stream",
     "text": [
      "Processing peptides: 100%|██████████| 5837/5837 [00:19<00:00, 296.76it/s]\n",
      "100%|██████████| 5837/5837 [00:04<00:00, 1394.49it/s]\n"
     ]
    },
    {
     "name": "stdout",
     "output_type": "stream",
     "text": [
      "Extract raw name: 20180123_QE5_nLC3_DBJ_SA_LFQphos_SY5Y_200ug_15min_01\n"
     ]
    },
    {
     "name": "stderr",
     "output_type": "stream",
     "text": [
      "Processing peptides: 100%|██████████| 5570/5570 [00:18<00:00, 297.35it/s]\n",
      "100%|██████████| 5570/5570 [00:03<00:00, 1401.45it/s]\n"
     ]
    },
    {
     "name": "stdout",
     "output_type": "stream",
     "text": [
      "Extract raw name: 20171001_QE3_nLC7_DBJ_SA_LFQphos_Tech_Rep_01\n"
     ]
    },
    {
     "name": "stderr",
     "output_type": "stream",
     "text": [
      "Processing peptides: 100%|██████████| 5718/5718 [00:19<00:00, 292.98it/s]\n",
      "100%|██████████| 5718/5718 [00:04<00:00, 1428.67it/s]\n"
     ]
    },
    {
     "name": "stdout",
     "output_type": "stream",
     "text": [
      "Extract raw name: 20171001_QE3_nLC7_DBJ_SA_LFQphos_LCMS_Rep_05\n"
     ]
    },
    {
     "name": "stderr",
     "output_type": "stream",
     "text": [
      "Processing peptides: 100%|██████████| 5543/5543 [00:19<00:00, 289.04it/s]\n",
      "100%|██████████| 5543/5543 [00:03<00:00, 1425.42it/s]\n"
     ]
    },
    {
     "name": "stdout",
     "output_type": "stream",
     "text": [
      "Extract raw name: 20171001_QE3_nLC7_DBJ_SA_LFQphos_Tech_Rep_03\n"
     ]
    },
    {
     "name": "stderr",
     "output_type": "stream",
     "text": [
      "Processing peptides: 100%|██████████| 5864/5864 [00:20<00:00, 288.88it/s]\n",
      "100%|██████████| 5864/5864 [00:04<00:00, 1418.81it/s]\n"
     ]
    },
    {
     "name": "stdout",
     "output_type": "stream",
     "text": [
      "Extract raw name: 20171001_QE3_nLC7_DBJ_SA_LFQphos_Tech_Rep_04\n"
     ]
    },
    {
     "name": "stderr",
     "output_type": "stream",
     "text": [
      "Processing peptides: 100%|██████████| 5763/5763 [00:19<00:00, 293.01it/s]\n",
      "100%|██████████| 5763/5763 [00:04<00:00, 1410.69it/s]\n"
     ]
    },
    {
     "name": "stdout",
     "output_type": "stream",
     "text": [
      "Extract raw name: 20171001_QE3_nLC7_DBJ_SA_LFQphos_Tech_Rep_02\n"
     ]
    },
    {
     "name": "stderr",
     "output_type": "stream",
     "text": [
      "Processing peptides: 100%|██████████| 5924/5924 [00:20<00:00, 290.05it/s]\n",
      "100%|██████████| 5924/5924 [00:04<00:00, 1399.06it/s]\n"
     ]
    }
   ],
   "source": [
    "frag_types = ['b_z1', 'b_z2', 'y_z1', 'y_z2', 'b_modloss_z1', 'b_modloss_z2', 'y_modloss_z1', 'y_modloss_z2']\n",
    "\n",
    "extract_peptide_info_to_separated_raw_file(path=r'quant_data\\txt-DDA-analyses',\n",
    "                     out_dir=r'psm_data\\PXD014525', frag_types=frag_types, is_included_other_mods=False,\n",
    "                     raw_names=[],\n",
    "                     instrument='QE')"
   ]
  },
  {
   "cell_type": "markdown",
   "id": "8a742406",
   "metadata": {},
   "source": [
    "#### 💾 Output:\n",
    "\n",
    "For each **raw_name**, the function will extract PSM data and store results in the directory: `psm_data/PXD014525/{raw_name}`\n",
    "- `psm_df.csv`: Contains peptide-spectrum match information  \n",
    "- `fragment_mz_df.csv`: Stores fragment m/z values  \n",
    "- `fragment_intensity.csv`: Stores fragment intensity values"
   ]
  }
 ],
 "metadata": {
  "kernelspec": {
   "display_name": "datn",
   "language": "python",
   "name": "python3"
  },
  "language_info": {
   "codemirror_mode": {
    "name": "ipython",
    "version": 3
   },
   "file_extension": ".py",
   "mimetype": "text/x-python",
   "name": "python",
   "nbconvert_exporter": "python",
   "pygments_lexer": "ipython3",
   "version": "3.12.9"
  }
 },
 "nbformat": 4,
 "nbformat_minor": 5
}
