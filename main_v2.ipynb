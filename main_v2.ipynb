{
 "cells": [
  {
   "cell_type": "markdown",
   "id": "5527caef",
   "metadata": {},
   "source": [
    "# 🐍 | Python Version"
   ]
  },
  {
   "cell_type": "code",
   "execution_count": 3,
   "id": "5c0c8c19",
   "metadata": {},
   "outputs": [
    {
     "name": "stdout",
     "output_type": "stream",
     "text": [
      "Python: 3.12.9 | packaged by Anaconda, Inc. | (main, Feb  6 2025, 18:49:16) [MSC v.1929 64 bit (AMD64)]\n"
     ]
    }
   ],
   "source": [
    "import sys\n",
    "\n",
    "print(\"Python:\", sys.version)"
   ]
  },
  {
   "cell_type": "markdown",
   "id": "46441656",
   "metadata": {},
   "source": [
    "# 🛠 | Install Libraries"
   ]
  },
  {
   "cell_type": "code",
   "execution_count": null,
   "id": "7530aef7",
   "metadata": {},
   "outputs": [],
   "source": [
    "!pip install requirements.txt"
   ]
  },
  {
   "cell_type": "markdown",
   "id": "93503905",
   "metadata": {},
   "source": [
    "# 📚 | Import Libraries"
   ]
  },
  {
   "cell_type": "code",
   "execution_count": 4,
   "id": "3254a39a",
   "metadata": {},
   "outputs": [],
   "source": [
    "import warnings\n",
    "\n",
    "warnings.filterwarnings(\"ignore\")"
   ]
  },
  {
   "cell_type": "code",
   "execution_count": null,
   "id": "9202cc06",
   "metadata": {},
   "outputs": [],
   "source": [
    "import os\n",
    "import pandas as pd\n",
    "\n",
    "import peptdeep\n",
    "import alphaviz\n",
    "from peptdeep.model.ms2 import ModelMS2Bert\n",
    "from alphaviz.plotting import plot_chrom\n",
    "from peptdeep.model.ms2 import calc_ms2_similarity"
   ]
  },
  {
   "cell_type": "markdown",
   "id": "01411bbc",
   "metadata": {},
   "source": [
    "## Library Version"
   ]
  },
  {
   "cell_type": "code",
   "execution_count": 5,
   "id": "de99ea6e",
   "metadata": {},
   "outputs": [
    {
     "name": "stdout",
     "output_type": "stream",
     "text": [
      "Peptdeep: 1.3.1\n",
      "Alphaviz: 1.1.15\n"
     ]
    }
   ],
   "source": [
    "print(\"Peptdeep:\", peptdeep.__version__)\n",
    "print(\"Alphaviz:\", alphaviz.__version__)"
   ]
  },
  {
   "cell_type": "markdown",
   "id": "3152738a",
   "metadata": {},
   "source": [
    "# 📁 | Dataset Path "
   ]
  },
  {
   "cell_type": "code",
   "execution_count": 6,
   "id": "89cd4abc",
   "metadata": {},
   "outputs": [],
   "source": [
    "DATASET_PATH = \"quant_data/txt-DDA-analyses\""
   ]
  },
  {
   "cell_type": "markdown",
   "id": "0df049cd",
   "metadata": {},
   "source": [
    "# 📖 | Meta Data\n",
    "\n",
    "Raw quantification files from MaxQuant:\n",
    "\n",
    "- `evidence.txt`\n",
    "\n",
    "  The evidence file combines all the information about the identified peptides and normally is the only file\n",
    "  required for processing the results. Additional information about the peptides, modifications, proteins, etc. can\n",
    "  be found in the other files by unique identifier linkage.\n",
    "  - Sequence, Modified sequence: Peptide sequence and its modifications\n",
    "  - Charge, Mass error [ppm], Retention time, m/z\n",
    "  - Raw file: Raw file name\n",
    "  - Missed cleavages: Number of missed enzymatic cleavages\n",
    "  - Gene names: Names of genes this peptide is associated with\n",
    "  - Protein names: Names of proteins this peptide is associated with\n",
    "  - MS/MS scan number: The RAW-file derived scan number of the MS/MS with the highest peptide identification score (the highest score is stored in the column 'Score')\n",
    "  - id: A unique (consecutive) identifier for each row in the evidence table\n",
    "  - Protein group IDs: The identifier of the protein-group this redundant peptide sequence is associated with\n",
    "  - Peptide ID: The identifier of the non-redundant peptide sequence.\n",
    "  - MS/MS IDs:  Identifier(s) of the associated MS/MS summary(s) stored in the file 'msms.txt'.\n",
    "  - Intensity, Experiment, etc.\n",
    "- `peptides.txt`\n",
    "  - id:  A unique (consecutive) identifier for each row in the peptides table\n",
    "  - Reverse: When marked with '+', this particular peptide was found to be part of a protein derived from the reversed part of the decoy database. These should be removed for further data analysis\n",
    "  - Unique (Proteins): When marked with '+', this particular peptide is unique to a single protein sequence in the fasta file(s)\n",
    "  - etc.\n",
    "- `msms.txt`\n",
    "  - id: A unique (consecutive) identifier for each row in the peptides table\n",
    "  - Scan number: The RAW-file derived scan number of the MS/MS spectrum\n",
    "  - Masses: The charge corrected mass of the precursor ion.\n",
    "  - Intensities: The intensities of the peaks in the fragmentation spectrum\n",
    "  - Matches: The species of the peaks in the fragmentation spectrum\n",
    "  - PEP: Posterior Error Probability of the identification. This value essentially operates as a p-value, where smaller is more significant.\n",
    "  - etc.\n",
    "- `proteinGroups.txt`\n",
    "  - id: A unique (consecutive) identifier for each row in the peptides table\n",
    "  - Protein IDs: Identifier(s) of protein(s) contained in the protein group\n",
    "  - etc.\n",
    "- `msmsScans.txt`\n",
    "  - MS/MS IDs: The identifiers of the MS/MS scans identifying this peptide\n",
    "  - Collision energy: The collision energy used for the fragmentation that resulted in this MS/MS scan.\n",
    "  - etc.\n",
    "- `etc.`"
   ]
  },
  {
   "cell_type": "markdown",
   "id": "759fb78d",
   "metadata": {},
   "source": [
    "# 🍽️ | Extract data\n",
    "\n",
    "This step aims to extract peptide information and corresponding MS/MS spectra.\n",
    "For each raw file listed in evidence.txt, three output files will be generated:\n",
    "- `psm_df.csv`: Contains peptide-spectrum match (PSM) information.\n",
    "    - peptide_id, sequence, charge, raw_name, spec_idx, instrument, scan_num, nAA, precursor_mz, etc.\n",
    "    - mods: List type of modification (ex: Phospho@T, Oxidation@M, etc.)\n",
    "    - mod_site: The position of modification (ex: 1, 4, etc.)\n",
    "    - rt: Retention time of peptide\n",
    "    - decoy: Check peptide is decoy (1 -> decoy, 0 -> no decoy)\n",
    "    - nce: Collision energy\n",
    "    - genes: Gene name\n",
    "    - ProteinName\n",
    "    - fragment_start_idx, fragment_stop_idx: Start and stop fragment index in fragment_*.csv \n",
    "    - etc.\n",
    "\n",
    "- `fragment_mz_df.csv`: Includes m/z values of fragment ions.\n",
    "\n",
    "- `fragment_intensity_df.csv`: Contains intensities of fragment ions."
   ]
  },
  {
   "cell_type": "code",
   "execution_count": 6,
   "id": "30fd6ee4",
   "metadata": {},
   "outputs": [],
   "source": [
    "from src.extract_zip_data_quant import extract_peptide_info_to_separated_raw_file"
   ]
  },
  {
   "cell_type": "code",
   "execution_count": 11,
   "id": "8fd0f726",
   "metadata": {},
   "outputs": [],
   "source": [
    "frag_types = ['b_z1', 'b_z2', 'y_z1', 'y_z2', 'b_modloss_z1', 'b_modloss_z2', 'y_modloss_z1', 'y_modloss_z2']"
   ]
  },
  {
   "cell_type": "code",
   "execution_count": null,
   "id": "dd1a4737",
   "metadata": {},
   "outputs": [],
   "source": [
    "warnings.filterwarnings(\"ignore\")\n",
    "\n",
    "extract_peptide_info_to_separated_raw_file(path=DATASET_PATH,\n",
    "    out_dir=r'psm_data/PXD014525',\n",
    "    frag_types=frag_types,\n",
    "    is_included_other_mods=False,\n",
    "    raw_names=[], # This will process all raw files\n",
    "    instrument='QE'\n",
    ")\n",
    "\n",
    "'''\n",
    "    With raw_name: '20171001_QE3_nLC7_DBJ_SA_LFQphos_Tech_Rep_01', output contains:\n",
    "    'psm_data/PXD014525/20171001_QE3_nLC7_DBJ_SA_LFQphos_Tech_Rep_01_1/psm_df.csv',\n",
    "    'psm_data/PXD014525/20171001_QE3_nLC7_DBJ_SA_LFQphos_Tech_Rep_01_1/fragment_mz_df.csv',\n",
    "    'psm_data/PXD014525/20171001_QE3_nLC7_DBJ_SA_LFQphos_Tech_Rep_01_1/fragment_intensity_df.csv',\n",
    "'''"
   ]
  },
  {
   "cell_type": "markdown",
   "id": "8e04a5b5",
   "metadata": {},
   "source": [
    "# ✅ | Save psm data with .hdf format\n",
    "\n",
    "For serving other experiment"
   ]
  },
  {
   "cell_type": "code",
   "execution_count": null,
   "id": "fc4563be",
   "metadata": {},
   "outputs": [],
   "source": [
    "from src.utils import convert_psm_data_to_hdf"
   ]
  },
  {
   "cell_type": "code",
   "execution_count": null,
   "id": "e52d50b9",
   "metadata": {},
   "outputs": [],
   "source": [
    "for path in os.listdir('psm_data/PXD014525'):\n",
    "    full_path = os.path.join('psm_data/PXD014525', path)\n",
    "    convert_psm_data_to_hdf(path=full_path, out_dir='psm_data/test_hdf')"
   ]
  },
  {
   "cell_type": "markdown",
   "id": "5be926bc",
   "metadata": {},
   "source": [
    "# 🤖 | Modeling"
   ]
  },
  {
   "cell_type": "code",
   "execution_count": 5,
   "id": "0e39c4b7",
   "metadata": {},
   "outputs": [],
   "source": [
    "from src.custom_model import CustomModelManager, CustompDeepModel\n",
    "\n",
    "\n",
    "ms2_model = CustompDeepModel(charged_frag_types=frag_types, mask_modloss=False,model_class=ModelMS2Bert, modloss_type=[\"modloss\", 'NH3', 'H2O'])\n",
    "modelMans = CustomModelManager(mask_modloss= False, ms2_model=ms2_model)\n",
    "no_tuned_ms2_model = CustompDeepModel(charged_frag_types=frag_types, mask_modloss=True,model_class=ModelMS2Bert, modloss_type=[\"modloss\", 'NH3', 'H2O'])\n",
    "no_tuned_modelMans = CustomModelManager(mask_modloss= True, ms2_model=no_tuned_ms2_model)"
   ]
  },
  {
   "cell_type": "markdown",
   "id": "5f38c321",
   "metadata": {},
   "source": [
    "# 🚊 | Load AlphaPeptdeep pretrained model"
   ]
  },
  {
   "cell_type": "code",
   "execution_count": null,
   "id": "b6f8116f",
   "metadata": {},
   "outputs": [],
   "source": [
    "no_tuned_modelMans.rt_model.load('pretrained_models/generic/rt.pth')\n",
    "no_tuned_modelMans.ccs_model.load('pretrained_models/generic/ccs.pth')\n",
    "no_tuned_modelMans.ms2_model.load('pretrained_models/generic/ms2.pth')\n",
    "\n",
    "modelMans.rt_model.load('pretrained_models/generic/rt.pth')\n",
    "modelMans.ccs_model.load('pretrained_models/generic/ccs.pth')\n",
    "modelMans.ms2_model.load('pretrained_models/generic/ms2.pth')"
   ]
  },
  {
   "cell_type": "markdown",
   "id": "16a5e42b",
   "metadata": {},
   "source": [
    "### 📊 | Compare metrics of two model"
   ]
  },
  {
   "cell_type": "code",
   "execution_count": 14,
   "id": "ee764116",
   "metadata": {},
   "outputs": [],
   "source": [
    "from src.visualization import compare_metrics"
   ]
  },
  {
   "cell_type": "code",
   "execution_count": 19,
   "id": "4f232bbb",
   "metadata": {},
   "outputs": [],
   "source": [
    "psm_df = pd.read_csv(f'psm_data/PXD014525/20171001_QE3_nLC7_DBJ_SA_LFQphos_LCMS_Rep_02/psm_df.csv')\n",
    "psm_df.fillna('', inplace=True)\n",
    "psm_df['mod_sites'] = psm_df['mod_sites'].astype(str)\n",
    "psm_df['mod_sites'].fillna('', inplace=True)\n",
    "psm_df['mods'] = psm_df['mods'].astype(str)\n",
    "psm_df['mods'].fillna('', inplace=True)\n",
    "psm_df['mods'] = psm_df['mods'].apply(lambda x: x.replace('Acetyl@Protein N-term', 'Acetyl@Protein_N-term'))\n",
    "\n",
    "intensity_df = pd.read_csv(f'psm_data/PXD014525/20171001_QE3_nLC7_DBJ_SA_LFQphos_LCMS_Rep_02/fragment_intensity_df.csv')"
   ]
  },
  {
   "cell_type": "code",
   "execution_count": 20,
   "id": "b80dd0b9",
   "metadata": {},
   "outputs": [
    {
     "name": "stdout",
     "output_type": "stream",
     "text": [
      "2025-05-16 06:26:09> Predicting MS2 ...\n"
     ]
    },
    {
     "name": "stderr",
     "output_type": "stream",
     "text": [
      "100%|██████████| 49/49 [00:15<00:00,  3.13it/s]\n"
     ]
    }
   ],
   "source": [
    "no_tuned_pred_intensities = no_tuned_modelMans.predict_ms2(precursor_df=psm_df)\n",
    "\n",
    "no_tuned_result_psm, no_tuned_metrics = calc_ms2_similarity(\n",
    "    psm_df, predict_intensity_df=no_tuned_pred_intensities, fragment_intensity_df=intensity_df\n",
    ")"
   ]
  },
  {
   "cell_type": "code",
   "execution_count": 21,
   "id": "30b675bd",
   "metadata": {},
   "outputs": [
    {
     "name": "stdout",
     "output_type": "stream",
     "text": [
      "2025-05-16 06:26:26> Predicting MS2 ...\n"
     ]
    },
    {
     "name": "stderr",
     "output_type": "stream",
     "text": [
      "100%|██████████| 49/49 [00:18<00:00,  2.61it/s]\n"
     ]
    }
   ],
   "source": [
    "pred_intensities = modelMans.predict_ms2(precursor_df=psm_df)\n",
    "\n",
    "tuned_result_psm, tuned_metrics = calc_ms2_similarity(\n",
    "    psm_df, predict_intensity_df=pred_intensities, fragment_intensity_df=intensity_df\n",
    ")"
   ]
  },
  {
   "cell_type": "code",
   "execution_count": 23,
   "id": "14f9b9d4",
   "metadata": {},
   "outputs": [
    {
     "data": {
      "image/png": "[encoded data removed]",
      "text/plain": [
       "<Figure size 1000x500 with 1 Axes>"
      ]
     },
     "metadata": {},
     "output_type": "display_data"
    },
    {
     "data": {
      "image/png": "[encoded data removed]",
      "text/plain": [
       "<Figure size 1000x500 with 1 Axes>"
      ]
     },
     "metadata": {},
     "output_type": "display_data"
    },
    {
     "data": {
      "image/png": "[encoded data removed]",
      "text/plain": [
       "<Figure size 1000x500 with 1 Axes>"
      ]
     },
     "metadata": {},
     "output_type": "display_data"
    },
    {
     "data": {
      "image/png": "[encoded data removed]",
      "text/plain": [
       "<Figure size 1000x500 with 1 Axes>"
      ]
     },
     "metadata": {},
     "output_type": "display_data"
    }
   ],
   "source": [
    "compare_metrics(\n",
    "    first_metrics=no_tuned_metrics,\n",
    "    second_metrics=tuned_metrics,\n",
    "    first_label_title='No tuning model',\n",
    "    second_label_title='Tuned model',\n",
    "    evaluations=['PCC', 'COS', 'SA', 'SPC']\n",
    ")"
   ]
  },
  {
   "cell_type": "markdown",
   "id": "e9d0170c",
   "metadata": {},
   "source": [
    "# ✏️ | Generate in silico spectral library"
   ]
  },
  {
   "cell_type": "code",
   "execution_count": 14,
   "id": "5b41c39e",
   "metadata": {},
   "outputs": [],
   "source": [
    "PSM_DATASET_PATH = \"psm_data/PXD014525\""
   ]
  },
  {
   "cell_type": "code",
   "execution_count": null,
   "id": "594bc346",
   "metadata": {},
   "outputs": [],
   "source": [
    "from src.generate_spectral_lib import generate_spectral_lib"
   ]
  },
  {
   "cell_type": "markdown",
   "id": "d142cf3a",
   "metadata": {},
   "source": [
    "Generate spectral library without neutral loss"
   ]
  },
  {
   "cell_type": "code",
   "execution_count": null,
   "id": "40558eb7",
   "metadata": {},
   "outputs": [],
   "source": [
    "for raw_name in os.listdir(PSM_DATASET_PATH):\n",
    "    if raw_name in ['0.raw_dia_data', '1.mzML_dia_data', '2.raw_dda_data']:\n",
    "        continue\n",
    "    \n",
    "    dir = f\"{PSM_DATASET_PATH}/{raw_name}\"\n",
    "    print(f\"-- {raw_name} --\")\n",
    "    psm_df = pd.read_csv(fr'{dir}\\psm_df.csv')\n",
    "    psm_df.fillna('', inplace=True)\n",
    "    psm_df['mod_sites'] = psm_df['mod_sites'].astype(str)\n",
    "    psm_df['mod_sites'].fillna('', inplace=True)\n",
    "    psm_df['mods'] = psm_df['mods'].astype(str)\n",
    "    psm_df['mods'].fillna('', inplace=True)\n",
    "    psm_df['mods'] = psm_df['mods'].apply(lambda x: x.replace('Acetyl@Protein N-term', 'Acetyl@Protein_N-term'))\n",
    "    \n",
    "    mz_df = pd.read_csv(fr'{dir}\\fragment_mz_df.csv')\n",
    "    intensity_df = pd.read_csv(fr'{dir}\\fragment_intensity_df.csv')\n",
    "\n",
    "    generate_spectral_lib(f'spectral_library/noloss/no_loss_{raw_name}.tsv',\n",
    "        no_tuned_modelMans, psm_df=psm_df, predict_items=['mobility', 'ms2'],frag_types=frag_types, multiprocessing=False)"
   ]
  },
  {
   "cell_type": "code",
   "execution_count": null,
   "id": "a6c0019b",
   "metadata": {},
   "outputs": [],
   "source": [
    "# Combine all noloss spectral libraries\n",
    "from src.generate_spectral_lib import combine_spectral_lib\n",
    "\n",
    "paths = os.listdir('spectral_library/noloss')\n",
    "lib_paths = []\n",
    "for x in paths:\n",
    "    if x.startswith('no_loss') and 'old' not in x:\n",
    "        lib_paths.append('spectral_library/noloss/' + x)\n",
    "\n",
    "combined_noloss_spec_lib = combine_spectral_lib(\n",
    "    lib_paths=lib_paths\n",
    ")"
   ]
  },
  {
   "cell_type": "code",
   "execution_count": null,
   "id": "76b7fb70",
   "metadata": {},
   "outputs": [],
   "source": [
    "# Filter the combined spectral library to get peptide with phosphorylation only\n",
    "combined_noloss_spec_lib_filter = combined_noloss_spec_lib[(~combined_noloss_spec_lib['ModifiedPeptide'].str.contains('UniMod:35')) & (~combined_noloss_spec_lib['ModifiedPeptide'].str.contains('UniMod:4')) &\n",
    "                (~combined_noloss_spec_lib['ModifiedPeptide'].str.contains('UniMod:7')) & ((~combined_noloss_spec_lib['ModifiedPeptide'].str.contains('UniMod:1')))]\n",
    "\n",
    "combined_noloss_spec_lib_filter.to_csv('spectral_library/no_loss_combined_filter.tsv', sep='\\t', index=False)"
   ]
  },
  {
   "cell_type": "markdown",
   "id": "a0f41955",
   "metadata": {},
   "source": [
    "Generate spectral library with neutral loss"
   ]
  },
  {
   "cell_type": "code",
   "execution_count": null,
   "id": "924e2353",
   "metadata": {},
   "outputs": [],
   "source": [
    "for raw_name in os.listdir(PSM_DATASET_PATH):\n",
    "    if raw_name in ['0.raw_dia_data', '1.mzML_dia_data', '2.raw_dda_data']:\n",
    "        continue\n",
    "    \n",
    "    dir = f\"{PSM_DATASET_PATH}/{raw_name}\"\n",
    "    print(f\"-- {raw_name} --\")\n",
    "    psm_df = pd.read_csv(fr'{dir}\\psm_df.csv')\n",
    "    psm_df.fillna('', inplace=True)\n",
    "    psm_df['mod_sites'] = psm_df['mod_sites'].astype(str)\n",
    "    psm_df['mod_sites'].fillna('', inplace=True)\n",
    "    psm_df['mods'] = psm_df['mods'].astype(str)\n",
    "    psm_df['mods'].fillna('', inplace=True)\n",
    "    psm_df['mods'] = psm_df['mods'].apply(lambda x: x.replace('Acetyl@Protein N-term', 'Acetyl@Protein_N-term'))\n",
    "    \n",
    "    mz_df = pd.read_csv(fr'{dir}\\fragment_mz_df.csv')\n",
    "    intensity_df = pd.read_csv(fr'{dir}\\fragment_intensity_df.csv')\n",
    "\n",
    "    generate_spectral_lib(f'spectral_library/neutral_loss_no_tuned/neutral_loss_no_tuned_{raw_name}.tsv',\n",
    "        modelMans, psm_df=psm_df, predict_items=['mobility', 'ms2'],frag_types=frag_types, multiprocessing=False)"
   ]
  },
  {
   "cell_type": "code",
   "execution_count": null,
   "id": "3e9efcb6",
   "metadata": {},
   "outputs": [],
   "source": [
    "# Combine all neutral loss spectral libraries\n",
    "from src.generate_spectral_lib import combine_spectral_lib\n",
    "\n",
    "paths = os.listdir('spectral_library/neutral_loss_no_tuned')\n",
    "lib_paths = []\n",
    "for x in paths:\n",
    "    if x.startswith('neutral_loss_no_tuned') and 'old' not in x:\n",
    "        lib_paths.append('spectral_library/neutral_loss_no_tuned/' + x)\n",
    "\n",
    "combined_neutral_loss_spec_lib = combine_spectral_lib(\n",
    "    lib_paths=lib_paths\n",
    ")"
   ]
  },
  {
   "cell_type": "code",
   "execution_count": null,
   "id": "6ec7597e",
   "metadata": {},
   "outputs": [],
   "source": [
    "# Filter the combined spectral library to get peptide with phosphorylation only\n",
    "combined_noloss_spec_lib_filter = combined_neutral_loss_spec_lib[(~combined_neutral_loss_spec_lib['ModifiedPeptide'].str.contains('UniMod:35')) & (~combined_neutral_loss_spec_lib['ModifiedPeptide'].str.contains('UniMod:4')) &\n",
    "                (~combined_neutral_loss_spec_lib['ModifiedPeptide'].str.contains('UniMod:7')) & ((~combined_neutral_loss_spec_lib['ModifiedPeptide'].str.contains('UniMod:1')))]\n",
    "\n",
    "combined_noloss_spec_lib_filter.to_csv('spectral_library/neutral_loss_no_tuned_combined_filter.tsv', sep='\\t', index=False)"
   ]
  },
  {
   "cell_type": "markdown",
   "id": "a5d258a2",
   "metadata": {},
   "source": [
    "# 🏁| End"
   ]
  },
  {
   "cell_type": "markdown",
   "id": "475aaebf",
   "metadata": {},
   "source": [
    "`This in silico spectral library will be used in DIA-NN (DIA Analysis)`"
   ]
  }
 ],
 "metadata": {
  "kernelspec": {
   "display_name": "Python 3",
   "language": "python",
   "name": "python3"
  },
  "language_info": {
   "codemirror_mode": {
    "name": "ipython",
    "version": 3
   },
   "file_extension": ".py",
   "mimetype": "text/x-python",
   "name": "python",
   "nbconvert_exporter": "python",
   "pygments_lexer": "ipython3",
   "version": "3.12.9"
  }
 },
 "nbformat": 4,
 "nbformat_minor": 5
}
